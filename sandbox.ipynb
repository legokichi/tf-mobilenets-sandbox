{
 "cells": [
  {
   "cell_type": "code",
   "execution_count": 1,
   "metadata": {
    "collapsed": false
   },
   "outputs": [],
   "source": [
    "%matplotlib inline\n",
    "import os\n",
    "import sys\n",
    "sys.path.append(\"./models/\")\n",
    "sys.path.append(\"./models/object_detection\")\n",
    "\n",
    "import time\n",
    "\n",
    "import numpy as np\n",
    "from matplotlib import pyplot as plt\n",
    "import cv2\n",
    "import skimage.io as io\n",
    "import tensorflow as tf\n",
    "\n",
    "from utils import label_map_util\n",
    "from utils import visualization_utils as vis_util"
   ]
  },
  {
   "cell_type": "code",
   "execution_count": 2,
   "metadata": {
    "collapsed": true
   },
   "outputs": [],
   "source": [
    "PATH_TO_CKPT = os.path.join('ssd_mobilenet_v1_coco_11_06_2017', 'frozen_inference_graph.pb')\n",
    "PATH_TO_LABELS = os.path.join('models', 'object_detection', 'data', 'mscoco_label_map.pbtxt')\n",
    "NUM_CLASSES = 90"
   ]
  },
  {
   "cell_type": "code",
   "execution_count": 3,
   "metadata": {
    "collapsed": false
   },
   "outputs": [],
   "source": [
    "# Load a (frozen) Tensorflow model into memory.\n",
    "detection_graph = tf.Graph()\n",
    "with detection_graph.as_default():\n",
    "    od_graph_def = tf.GraphDef()\n",
    "    with tf.gfile.GFile(PATH_TO_CKPT, 'rb') as fid:\n",
    "        serialized_graph = fid.read()\n",
    "        od_graph_def.ParseFromString(serialized_graph)\n",
    "        tf.import_graph_def(od_graph_def, name='')"
   ]
  },
  {
   "cell_type": "code",
   "execution_count": 4,
   "metadata": {
    "collapsed": false
   },
   "outputs": [],
   "source": [
    "# Loading label map\n",
    "label_map = label_map_util.load_labelmap(PATH_TO_LABELS)\n",
    "categories = label_map_util.convert_label_map_to_categories(label_map, max_num_classes=NUM_CLASSES, use_display_name=True)\n",
    "category_index = label_map_util.create_category_index(categories)"
   ]
  },
  {
   "cell_type": "code",
   "execution_count": 5,
   "metadata": {
    "collapsed": false
   },
   "outputs": [],
   "source": [
    "#TEST_IMAGE_PATHS = [ os.path.join('models', 'object_detection', 'test_images', 'image{}.jpg'.format(i)) for i in range(1, 3) ]\n",
    "TEST_IMAGE_PATHS = [\"/var/tmp/_3e11d8d9-fb61-4f25-abaa-b402dad002dc_\"+str(1000000+i)[1:]+\".jpg\" for i in range(1,31)]"
   ]
  },
  {
   "cell_type": "code",
   "execution_count": 8,
   "metadata": {
    "collapsed": false,
    "scrolled": false
   },
   "outputs": [
    {
     "name": "stdout",
     "output_type": "stream",
     "text": [
      "(1024, 3216, 3)\n",
      "predict 1.2670073509216309 sec\n",
      "(1024, 3216, 3)\n",
      "predict 0.4324333667755127 sec\n",
      "(1024, 3216, 3)\n",
      "predict 0.41863346099853516 sec\n",
      "(1024, 3216, 3)\n",
      "predict 0.43596553802490234 sec\n",
      "(1024, 3216, 3)\n",
      "predict 0.4316527843475342 sec\n",
      "(1024, 3216, 3)\n",
      "predict 0.4157249927520752 sec\n",
      "(1024, 3216, 3)\n",
      "predict 0.41924262046813965 sec\n",
      "(1024, 3216, 3)\n",
      "predict 0.4262089729309082 sec\n",
      "(1024, 3216, 3)\n",
      "predict 0.46962857246398926 sec\n",
      "(1024, 3216, 3)\n",
      "predict 0.42383337020874023 sec\n",
      "(1024, 3216, 3)\n",
      "predict 0.41904139518737793 sec\n",
      "(1024, 3216, 3)\n",
      "predict 0.4665555953979492 sec\n",
      "(1024, 3216, 3)\n",
      "predict 0.4207916259765625 sec\n",
      "(1024, 3216, 3)\n",
      "predict 0.4217567443847656 sec\n",
      "(1024, 3216, 3)\n",
      "predict 0.4544506072998047 sec\n",
      "(1024, 3216, 3)\n",
      "predict 0.49613142013549805 sec\n",
      "(1024, 3216, 3)\n",
      "predict 0.4247782230377197 sec\n",
      "(1024, 3216, 3)\n",
      "predict 0.472545862197876 sec\n",
      "(1024, 3216, 3)\n",
      "predict 0.4213228225708008 sec\n",
      "(1024, 3216, 3)\n",
      "predict 0.4507319927215576 sec\n",
      "(1024, 3216, 3)\n",
      "predict 0.45179271697998047 sec\n",
      "(1024, 3216, 3)\n",
      "predict 0.44745874404907227 sec\n",
      "(1024, 3216, 3)\n",
      "predict 0.49497556686401367 sec\n",
      "(1024, 3216, 3)\n",
      "predict 0.438831090927124 sec\n",
      "(1024, 3216, 3)\n",
      "predict 0.47707366943359375 sec\n",
      "(1024, 3216, 3)\n",
      "predict 0.521024227142334 sec\n",
      "(1024, 3216, 3)\n",
      "predict 0.47807979583740234 sec\n",
      "(1024, 3216, 3)\n",
      "predict 0.46276283264160156 sec\n",
      "(1024, 3216, 3)\n",
      "predict 0.42840003967285156 sec\n",
      "(1024, 3216, 3)\n",
      "predict 0.42480897903442383 sec\n"
     ]
    }
   ],
   "source": [
    "with detection_graph.as_default():\n",
    "    with tf.Session(graph=detection_graph) as sess:\n",
    "        for image_path in TEST_IMAGE_PATHS:\n",
    "\n",
    "            start = time.time()\n",
    "            image_np = io.imread(image_path).astype(np.uint8)\n",
    "            print(image_np.shape)\n",
    "            image_np_expanded = np.expand_dims(image_np, axis=0)\n",
    "            \n",
    "            image_tensor = detection_graph.get_tensor_by_name('image_tensor:0')\n",
    "            boxes = detection_graph.get_tensor_by_name('detection_boxes:0')\n",
    "            scores = detection_graph.get_tensor_by_name('detection_scores:0')\n",
    "            classes = detection_graph.get_tensor_by_name('detection_classes:0')\n",
    "            num_detections = detection_graph.get_tensor_by_name('num_detections:0')\n",
    "            \n",
    "            (boxes, scores, classes, num_detections) = sess.run(\n",
    "                [boxes, scores, classes, num_detections],\n",
    "                feed_dict={image_tensor: image_np_expanded})\n",
    "            print(\"predict\", time.time() - start, \"sec\")\n",
    "            \n",
    "            '''\n",
    "            start = time.time()\n",
    "            vis_util.visualize_boxes_and_labels_on_image_array(\n",
    "              image_np,\n",
    "              np.squeeze(boxes),\n",
    "              np.squeeze(classes).astype(np.int32),\n",
    "              np.squeeze(scores),\n",
    "              category_index,\n",
    "              use_normalized_coordinates=True,\n",
    "              line_thickness=8)\n",
    "            plt.figure(figsize=(12, 12))\n",
    "            plt.imshow(image_np)\n",
    "            print(\"show\", time.time() - start, \"sec\")\n",
    "            '''"
   ]
  },
  {
   "cell_type": "code",
   "execution_count": null,
   "metadata": {
    "collapsed": true
   },
   "outputs": [],
   "source": []
  }
 ],
 "metadata": {
  "kernelspec": {
   "display_name": "Python [Root]",
   "language": "python",
   "name": "Python [Root]"
  },
  "language_info": {
   "codemirror_mode": {
    "name": "ipython",
    "version": 3
   },
   "file_extension": ".py",
   "mimetype": "text/x-python",
   "name": "python",
   "nbconvert_exporter": "python",
   "pygments_lexer": "ipython3",
   "version": "3.5.2"
  }
 },
 "nbformat": 4,
 "nbformat_minor": 0
}
